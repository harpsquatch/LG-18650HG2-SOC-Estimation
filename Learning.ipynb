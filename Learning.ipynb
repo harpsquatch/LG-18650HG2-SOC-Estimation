{
 "cells": [
  {
   "cell_type": "markdown",
   "metadata": {},
   "source": [
    "# What is logging"
   ]
  },
  {
   "cell_type": "code",
   "execution_count": 2,
   "metadata": {},
   "outputs": [
    {
     "name": "stderr",
     "output_type": "stream",
     "text": [
      "WARNING:root:Watch Out\n"
     ]
    }
   ],
   "source": [
    "import logging \n",
    "logging.warning('Watch Out') #This will print in the form of warning \n",
    "logging.info('I told you so') #This will not print anything "
   ]
  },
  {
   "cell_type": "code",
   "execution_count": 9,
   "metadata": {},
   "outputs": [
    {
     "name": "stderr",
     "output_type": "stream",
     "text": [
      "WARNING:root:And this too\n",
      "ERROR:root:and non ASCII Stuff too like orstead and malmo\n"
     ]
    }
   ],
   "source": [
    "import logging \n",
    "logging.basicConfig(filename='example.log',encoding='utf-8',level=logging.DEBUG)\n",
    "logging.debug(\"This message should go to the log file\")\n",
    "logging.info(\"So should this\")\n",
    "logging.warning(\"And this too\")\n",
    "logging.error(\"and non ASCII Stuff too like orstead and malmo\")"
   ]
  },
  {
   "cell_type": "code",
   "execution_count": null,
   "metadata": {},
   "outputs": [],
   "source": []
  }
 ],
 "metadata": {
  "kernelspec": {
   "display_name": "Python 3",
   "language": "python",
   "name": "python3"
  },
  "language_info": {
   "codemirror_mode": {
    "name": "ipython",
    "version": 3
   },
   "file_extension": ".py",
   "mimetype": "text/x-python",
   "name": "python",
   "nbconvert_exporter": "python",
   "pygments_lexer": "ipython3",
   "version": "3.8.10"
  }
 },
 "nbformat": 4,
 "nbformat_minor": 2
}
